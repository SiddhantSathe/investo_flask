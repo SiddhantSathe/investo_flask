{
 "cells": [
  {
   "cell_type": "code",
   "execution_count": null,
   "metadata": {},
   "outputs": [],
   "source": [
    "op = { \"userProfile\": { \"budget\": \"$200\", \"riskTolerance\": \"Medium\", \"investmentType\": \"Growth\" }, \"stockRecommendations\": [ { \"category\": \"Safe (Low Volatility)\", \"recommendations\": [ { \"stock\": \"Not recommended with the specified budget, safer stocks are generally higher priced.\" } ] }, { \"category\": \"Balanced (Moderate Risk-Reward)\", \"recommendations\": [ { \"stock\": \"Ford (F)\", \"currentPrice\": \"around 12$\", \"reasoning\": \"Ford shows positive revenue growth and reasonable debt levels. Technically, RSI and MACD suggest a neutral to slightly bullish trend. Recent news indicates focus on EV expansion.\" } ] }, { \"category\": \"High-Risk (Growth/Momentum)\", \"recommendations\": [ { \"stock\": \"Riot Platforms, Inc. (RIOT)\", \"currentPrice\": \"around 9$\", \"reasoning\": \"As a Bitcoin mining company, its high risk, and high reward. Fundamental analysis shows variable but potentially high growth. Technicals (Moving Averages, Bollinger Bands) show volatility but potential upside. Sentiment is tied to cryptocurrency trends.\" }, { \"stock\": \"Nokia (NOK)\", \"currentPrice\": \"around 3$\", \"reasoning\": \"Positive free cash flow and growth potential in 5G infrastructure. The 50-day and 200-day moving averages hint at a possible upward trend. Increasing institutional holdings suggest growing confidence.\" } ] } ], \"importantNote\": \"Stock prices are dynamic and will change. These examples assume prices that allow purchasing at least one share within your $200 budget. Because prices are subject to change and fees apply, purchasing multiple stocks from each category may not be possible. Fractional shares are a consideration, depending on your brokerage. Always conduct your own thorough research.\" }"
   ]
  }
 ],
 "metadata": {
  "kernelspec": {
   "display_name": "Python 3",
   "language": "python",
   "name": "python3"
  },
  "language_info": {
   "name": "python",
   "version": "3.13.1"
  }
 },
 "nbformat": 4,
 "nbformat_minor": 2
}
